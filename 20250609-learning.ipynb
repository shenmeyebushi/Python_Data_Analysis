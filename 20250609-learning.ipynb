{
 "cells": [
  {
   "cell_type": "code",
   "execution_count": 5,
   "id": "5ff3920c-7e5b-4953-85a1-0e12a6311cf8",
   "metadata": {},
   "outputs": [
    {
     "data": {
      "text/plain": [
       "105"
      ]
     },
     "execution_count": 5,
     "metadata": {},
     "output_type": "execute_result"
    }
   ],
   "source": [
    "3*35"
   ]
  },
  {
   "cell_type": "code",
   "execution_count": 6,
   "id": "5454ade2-8208-44bb-8269-6d2170933022",
   "metadata": {},
   "outputs": [
    {
     "name": "stdout",
     "output_type": "stream",
     "text": [
      "hello world!\n"
     ]
    }
   ],
   "source": [
    "print(\"hello world!\")"
   ]
  },
  {
   "cell_type": "code",
   "execution_count": 7,
   "id": "0b6a3428-5df0-499a-918b-c11aec11e4b5",
   "metadata": {},
   "outputs": [],
   "source": [
    "a=3"
   ]
  },
  {
   "cell_type": "markdown",
   "id": "329cbece-5ac6-41bc-a4c5-8c71bbff6df1",
   "metadata": {},
   "source": [
    "a"
   ]
  },
  {
   "cell_type": "markdown",
   "id": "5c912868-5db9-41b9-9a66-f89616a08801",
   "metadata": {},
   "source": [
    "## Learning"
   ]
  },
  {
   "cell_type": "markdown",
   "id": "0f9e7ce6-6db0-48b0-b072-7e94523d6445",
   "metadata": {},
   "source": [
    "# l"
   ]
  },
  {
   "cell_type": "markdown",
   "id": "f9f4c182-f28e-4863-adb0-fb5617261783",
   "metadata": {},
   "source": [
    "# #是一级标题"
   ]
  },
  {
   "cell_type": "markdown",
   "id": "b6ea3d5f-5bd1-4fe9-a1fa-eed5fd127ea3",
   "metadata": {},
   "source": [
    "## ##是二级标题"
   ]
  },
  {
   "cell_type": "markdown",
   "id": "6a399fea-893b-4c81-81af-0afce97aaf90",
   "metadata": {},
   "source": [
    "### ###是三级标题"
   ]
  },
  {
   "cell_type": "code",
   "execution_count": null,
   "id": "018a2aea-9610-407b-894b-a479d68623a6",
   "metadata": {},
   "outputs": [],
   "source": []
  }
 ],
 "metadata": {
  "kernelspec": {
   "display_name": "Python 3 (ipykernel)",
   "language": "python",
   "name": "python3"
  },
  "language_info": {
   "codemirror_mode": {
    "name": "ipython",
    "version": 3
   },
   "file_extension": ".py",
   "mimetype": "text/x-python",
   "name": "python",
   "nbconvert_exporter": "python",
   "pygments_lexer": "ipython3",
   "version": "3.13.3"
  }
 },
 "nbformat": 4,
 "nbformat_minor": 5
}
